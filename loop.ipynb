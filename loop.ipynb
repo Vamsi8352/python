{
 "cells": [
  {
   "cell_type": "code",
   "execution_count": 8,
   "id": "1afa15a7",
   "metadata": {},
   "outputs": [
    {
     "name": "stdout",
     "output_type": "stream",
     "text": [
      "vamsi styles styles styles \n",
      "vamsi styles styles styles \n",
      "vamsi styles styles styles \n",
      "vamsi styles styles styles \n",
      "vamsi styles styles styles \n"
     ]
    }
   ],
   "source": [
    "i=1\n",
    "while i<=5:\n",
    "    print('vamsi', end=' ')\n",
    "    j=1\n",
    "    while j<=3:\n",
    "        print('styles', end=' ')\n",
    "        j=j+1\n",
    "    i=i+1\n",
    "    print()\n",
    "    \n",
    "    "
   ]
  },
  {
   "cell_type": "code",
   "execution_count": 8,
   "id": "3f957a16",
   "metadata": {},
   "outputs": [
    {
     "name": "stdout",
     "output_type": "stream",
     "text": [
      "vamsi\n",
      "25\n",
      "4.2\n"
     ]
    }
   ],
   "source": [
    "x=['vamsi', 25, 4.2]\n",
    "for i in x:\n",
    "    print(i)"
   ]
  },
  {
   "cell_type": "code",
   "execution_count": 13,
   "id": "6da8150b",
   "metadata": {},
   "outputs": [
    {
     "name": "stdout",
     "output_type": "stream",
     "text": [
      "['vamsi', 25, 4.2]\n"
     ]
    }
   ],
   "source": [
    "x=['vamsi', 25, 4.2]\n",
    "print(x)"
   ]
  },
  {
   "cell_type": "code",
   "execution_count": 14,
   "id": "b9edd254",
   "metadata": {},
   "outputs": [
    {
     "name": "stdout",
     "output_type": "stream",
     "text": [
      "vamsi 25 4.2 "
     ]
    }
   ],
   "source": [
    "x=['vamsi', 25, 4.2]\n",
    "for i in x:\n",
    "    print(i,end=' ')"
   ]
  },
  {
   "cell_type": "code",
   "execution_count": 9,
   "id": "38f35106",
   "metadata": {},
   "outputs": [
    {
     "name": "stdout",
     "output_type": "stream",
     "text": [
      "vamsikrishna  "
     ]
    }
   ],
   "source": [
    "\n",
    "for i in ['vamsikrishna']:\n",
    "    print(i,end='  ')"
   ]
  },
  {
   "cell_type": "code",
   "execution_count": 18,
   "id": "55d2fc63",
   "metadata": {},
   "outputs": [
    {
     "name": "stdout",
     "output_type": "stream",
     "text": [
      "0 1 2 3 4 5 6 7 8 9 "
     ]
    }
   ],
   "source": [
    "\n",
    "for i in range(10):\n",
    "    print(i,end=' ')"
   ]
  },
  {
   "cell_type": "code",
   "execution_count": 22,
   "id": "c8360ac9",
   "metadata": {},
   "outputs": [
    {
     "name": "stdout",
     "output_type": "stream",
     "text": [
      "100  94  88  82  76  70  64  58  52  "
     ]
    }
   ],
   "source": [
    "for i in range(100,50,-6):\n",
    "    print(i,end='  ')"
   ]
  },
  {
   "cell_type": "code",
   "execution_count": 23,
   "id": "3ca7ba74",
   "metadata": {},
   "outputs": [
    {
     "name": "stdout",
     "output_type": "stream",
     "text": [
      "50  56  62  68  74  80  86  92  98  "
     ]
    }
   ],
   "source": [
    "for i in range(50,100,6):\n",
    "    print(i,end='  ')"
   ]
  },
  {
   "cell_type": "code",
   "execution_count": 28,
   "id": "0fb9f414",
   "metadata": {},
   "outputs": [
    {
     "name": "stdout",
     "output_type": "stream",
     "text": [
      "51\n",
      "52\n",
      "53\n",
      "54\n",
      "56\n",
      "57\n",
      "58\n",
      "59\n"
     ]
    }
   ],
   "source": [
    "for i in range(50,61):\n",
    "    if i%5!=0:\n",
    "        print(i)"
   ]
  },
  {
   "cell_type": "code",
   "execution_count": 30,
   "id": "03a862ec",
   "metadata": {},
   "outputs": [
    {
     "name": "stdout",
     "output_type": "stream",
     "text": [
      "51  52  53  54  56  57  58  59  "
     ]
    }
   ],
   "source": [
    "for i in range(50,61):\n",
    "    if i%5!=0:\n",
    "        print(i,end='  ')"
   ]
  },
  {
   "cell_type": "code",
   "execution_count": 55,
   "id": "2bac5b5f",
   "metadata": {},
   "outputs": [
    {
     "name": "stdout",
     "output_type": "stream",
     "text": [
      "50\n",
      "55\n",
      "60\n"
     ]
    }
   ],
   "source": [
    "for i in range(50,61):\n",
    "    if i%5!=0:\n",
    "        continue\n",
    "    print(i)"
   ]
  },
  {
   "cell_type": "code",
   "execution_count": 50,
   "id": "9d3fb2b5",
   "metadata": {},
   "outputs": [
    {
     "name": "stdout",
     "output_type": "stream",
     "text": [
      "51\n",
      "52\n",
      "53\n",
      "54\n",
      "56\n",
      "57\n",
      "58\n",
      "59\n"
     ]
    }
   ],
   "source": [
    "for i in range(50,61):\n",
    "    if i%5==0:\n",
    "        continue\n",
    "    print(i)"
   ]
  },
  {
   "cell_type": "code",
   "execution_count": 51,
   "id": "7640b1bb",
   "metadata": {},
   "outputs": [
    {
     "name": "stdout",
     "output_type": "stream",
     "text": [
      "51\n",
      "52\n",
      "53\n",
      "54\n",
      "56\n",
      "57\n",
      "58\n",
      "59\n"
     ]
    }
   ],
   "source": [
    "for i in range(50,61):\n",
    "    if i%5!=0:\n",
    "        print(i,)"
   ]
  },
  {
   "cell_type": "code",
   "execution_count": 63,
   "id": "d0bb2f9f",
   "metadata": {},
   "outputs": [
    {
     "name": "stdout",
     "output_type": "stream",
     "text": [
      "50\n",
      "52\n",
      "53\n",
      "55\n",
      "56\n",
      "58\n",
      "59\n"
     ]
    }
   ],
   "source": [
    "for i in range(50,61):\n",
    "    if i%3==0:\n",
    "        continue\n",
    "    print(i)"
   ]
  },
  {
   "cell_type": "code",
   "execution_count": 68,
   "id": "36e7181a",
   "metadata": {},
   "outputs": [
    {
     "name": "stdout",
     "output_type": "stream",
     "text": [
      "52\n",
      "53\n",
      "56\n",
      "58\n",
      "59\n"
     ]
    }
   ],
   "source": [
    "for i in range(50,61):\n",
    "    if i%3!=0 and i%5!=0:\n",
    "        \n",
    "         print(i)"
   ]
  },
  {
   "cell_type": "code",
   "execution_count": 93,
   "id": "61853b2a",
   "metadata": {},
   "outputs": [
    {
     "name": "stdout",
     "output_type": "stream",
     "text": [
      "# # # # \n",
      "# # # # \n",
      "# # # # \n",
      "# # # # \n",
      "# # # # \n"
     ]
    }
   ],
   "source": [
    "for i in range (5):\n",
    "    for j in range (4):\n",
    "        print('#',end=' ')\n",
    "    print()\n",
    "\n"
   ]
  },
  {
   "cell_type": "code",
   "execution_count": 94,
   "id": "cf5e257f",
   "metadata": {},
   "outputs": [
    {
     "name": "stdout",
     "output_type": "stream",
     "text": [
      "\n",
      "# \n",
      "# # \n",
      "# # # \n",
      "# # # # \n"
     ]
    }
   ],
   "source": [
    "for i in range (5):\n",
    "    for j in range (i):\n",
    "        print('#',end=' ')\n",
    "    print()\n"
   ]
  },
  {
   "cell_type": "code",
   "execution_count": 95,
   "id": "0b616a78",
   "metadata": {},
   "outputs": [
    {
     "name": "stdout",
     "output_type": "stream",
     "text": [
      "# \n",
      "# # \n",
      "# # # \n",
      "# # # # \n",
      "# # # # # \n"
     ]
    }
   ],
   "source": [
    "for i in range (5):\n",
    "    for j in range (i+1):\n",
    "        print('#',end=' ')\n",
    "    print()\n"
   ]
  },
  {
   "cell_type": "code",
   "execution_count": 96,
   "id": "37d88c3d",
   "metadata": {},
   "outputs": [
    {
     "name": "stdout",
     "output_type": "stream",
     "text": [
      "# # # # # \n",
      "# # # # \n",
      "# # # \n",
      "# # \n",
      "# \n"
     ]
    }
   ],
   "source": [
    "for i in range (5):\n",
    "    for j in range (5-i):\n",
    "        print('#',end=' ')\n",
    "    print()\n"
   ]
  },
  {
   "cell_type": "code",
   "execution_count": 10,
   "id": "a0b52a78",
   "metadata": {},
   "outputs": [
    {
     "name": "stdout",
     "output_type": "stream",
     "text": [
      "poojari \"rajesh\" 'varma'\n"
     ]
    }
   ],
   "source": [
    "print('poojari \"rajesh\" \\'varma\\'')"
   ]
  },
  {
   "cell_type": "code",
   "execution_count": 2,
   "id": "486033a7",
   "metadata": {},
   "outputs": [
    {
     "name": "stdout",
     "output_type": "stream",
     "text": [
      "poojari \"rajesh\" 'varma'\n"
     ]
    },
    {
     "data": {
      "text/plain": [
       "'gorantlagorantla'"
      ]
     },
     "execution_count": 2,
     "metadata": {},
     "output_type": "execute_result"
    }
   ],
   "source": [
    "\n",
    "print('poojari \"rajesh\" \\'varma\\'')\n",
    "_+'gorantla'\n"
   ]
  },
  {
   "cell_type": "code",
   "execution_count": 3,
   "id": "f1f7ac31",
   "metadata": {},
   "outputs": [
    {
     "name": "stdout",
     "output_type": "stream",
     "text": [
      "poojari \"rajesh\" 'varma'\n"
     ]
    },
    {
     "data": {
      "text/plain": [
       "'gorantlagorantlavamsi'"
      ]
     },
     "execution_count": 3,
     "metadata": {},
     "output_type": "execute_result"
    }
   ],
   "source": [
    "print('poojari \"rajesh\" \\'varma\\'')\n",
    "_+'vamsi'\n"
   ]
  },
  {
   "cell_type": "code",
   "execution_count": 8,
   "id": "7a64c53e",
   "metadata": {},
   "outputs": [
    {
     "name": "stdout",
     "output_type": "stream",
     "text": [
      "poojari \"rajesh\" 'varma'\n"
     ]
    },
    {
     "data": {
      "text/plain": [
       "'gorantlagorantlavamsisathyasathyasathyasathya'"
      ]
     },
     "execution_count": 8,
     "metadata": {},
     "output_type": "execute_result"
    }
   ],
   "source": [
    "print('poojari \"rajesh\" \\'varma\\'')\n",
    "_ + 'sathya'"
   ]
  },
  {
   "cell_type": "code",
   "execution_count": 9,
   "id": "df14ae4a",
   "metadata": {},
   "outputs": [
    {
     "name": "stdout",
     "output_type": "stream",
     "text": [
      "poojari \"rajesh\" 'varma'\n",
      "gorantlagorantlavamsisathyasathyasathyasathyasathya  "
     ]
    }
   ],
   "source": [
    "print('poojari \"rajesh\" \\'varma\\'')\n",
    "print(_ + 'sathya',end='  ')\n",
    "\n"
   ]
  },
  {
   "cell_type": "code",
   "execution_count": 19,
   "id": "0dfa57ed",
   "metadata": {},
   "outputs": [
    {
     "name": "stdout",
     "output_type": "stream",
     "text": [
      "poojari \"rajesh\" 'varma'\n",
      "gorantla\n",
      "sathya "
     ]
    }
   ],
   "source": [
    "print('poojari \"rajesh\" \\'varma\\'')\n",
    "result='gorantla'\n",
    "print (result)\n",
    "result + 'vamsi'\n",
    "sathya='result+vamsi'\n",
    "for i in ['sathya']:\n",
    "    print(i,end=' ')"
   ]
  },
  {
   "cell_type": "code",
   "execution_count": 4,
   "id": "cce802b9",
   "metadata": {},
   "outputs": [
    {
     "name": "stdout",
     "output_type": "stream",
     "text": [
      "[25, 2, 4, 5, 5, 248, 56]\n"
     ]
    }
   ],
   "source": [
    "x=[25,2,4,5,5,248,]\n",
    "x.append(56)\n",
    "print(x)"
   ]
  },
  {
   "cell_type": "code",
   "execution_count": 5,
   "id": "443edb62",
   "metadata": {},
   "outputs": [
    {
     "name": "stdout",
     "output_type": "stream",
     "text": [
      "[25, 2, 56, 4, 5, 5, 248]\n"
     ]
    }
   ],
   "source": [
    "x=[25,2,4,5,5,248,]\n",
    "x.insert(2,56)\n",
    "print(x)"
   ]
  },
  {
   "cell_type": "code",
   "execution_count": 6,
   "id": "a15b8deb",
   "metadata": {},
   "outputs": [
    {
     "name": "stdout",
     "output_type": "stream",
     "text": [
      "[25, 2, 4, 5, 5]\n"
     ]
    }
   ],
   "source": [
    "x=[25,2,4,5,5,248,]\n",
    "x.pop(5)\n",
    "print(x)"
   ]
  },
  {
   "cell_type": "code",
   "execution_count": 10,
   "id": "d4f49414",
   "metadata": {},
   "outputs": [
    {
     "name": "stdout",
     "output_type": "stream",
     "text": [
      "5\n"
     ]
    }
   ],
   "source": [
    "x=[25,2,4,5,5,248]\n",
    "print(x.pop(3))"
   ]
  },
  {
   "cell_type": "code",
   "execution_count": 13,
   "id": "bdbddae9",
   "metadata": {},
   "outputs": [
    {
     "name": "stdout",
     "output_type": "stream",
     "text": [
      "[25, 2]\n"
     ]
    }
   ],
   "source": [
    "x=[25,2,4,5,5,248]\n",
    "del x[2:]\n",
    "print(x)"
   ]
  },
  {
   "cell_type": "code",
   "execution_count": 15,
   "id": "b651ba2e",
   "metadata": {},
   "outputs": [
    {
     "name": "stdout",
     "output_type": "stream",
     "text": [
      "[25, 2, 4, 5, 5, 248, 1, 2, 3, 4, 5]\n"
     ]
    }
   ],
   "source": [
    "x=[25,2,4,5,5,248]\n",
    "x. extend([1,2,3,4,5])\n",
    "print(x)"
   ]
  },
  {
   "cell_type": "code",
   "execution_count": 16,
   "id": "edc72329",
   "metadata": {},
   "outputs": [
    {
     "name": "stdout",
     "output_type": "stream",
     "text": [
      "1\n"
     ]
    }
   ],
   "source": [
    "print(min(x))"
   ]
  },
  {
   "cell_type": "code",
   "execution_count": 17,
   "id": "2e2589fc",
   "metadata": {},
   "outputs": [
    {
     "name": "stdout",
     "output_type": "stream",
     "text": [
      "248\n",
      "304\n",
      "1\n"
     ]
    }
   ],
   "source": [
    "print(max(x))\n",
    "print(sum(x))\n",
    "print(min(x))\n"
   ]
  },
  {
   "cell_type": "code",
   "execution_count": 31,
   "id": "d869cec7",
   "metadata": {},
   "outputs": [
    {
     "name": "stdout",
     "output_type": "stream",
     "text": [
      "[25, 2, 4, 5]\n"
     ]
    }
   ],
   "source": [
    "x=[25,2,4,5,5,248]\n",
    "x.append(54)\n",
    "x. insert(5,25)\n",
    "x.extend([56,7,8,9,])\n",
    "del x[:]\n",
    "print(x)"
   ]
  },
  {
   "cell_type": "code",
   "execution_count": 3,
   "id": "7de89d53",
   "metadata": {},
   "outputs": [
    {
     "name": "stdout",
     "output_type": "stream",
     "text": [
      "<class 'str'>\n"
     ]
    }
   ],
   "source": [
    "x='6.78.878'\n",
    "print(type(x))"
   ]
  },
  {
   "cell_type": "code",
   "execution_count": null,
   "id": "b4b872c8",
   "metadata": {},
   "outputs": [],
   "source": []
  },
  {
   "cell_type": "code",
   "execution_count": null,
   "id": "333cdb5d",
   "metadata": {},
   "outputs": [],
   "source": []
  }
 ],
 "metadata": {
  "kernelspec": {
   "display_name": "Python 3 (ipykernel)",
   "language": "python",
   "name": "python3"
  },
  "language_info": {
   "codemirror_mode": {
    "name": "ipython",
    "version": 3
   },
   "file_extension": ".py",
   "mimetype": "text/x-python",
   "name": "python",
   "nbconvert_exporter": "python",
   "pygments_lexer": "ipython3",
   "version": "3.9.5"
  }
 },
 "nbformat": 4,
 "nbformat_minor": 5
}
